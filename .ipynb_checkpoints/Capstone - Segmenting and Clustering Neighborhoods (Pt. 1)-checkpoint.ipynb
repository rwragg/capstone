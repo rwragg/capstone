{
 "cells": [
  {
   "cell_type": "markdown",
   "metadata": {},
   "source": [
    "# Jupyter Notebook\n",
    "\n",
    "This notebook will be used for the Capstone Project for the <a href=https://www.coursera.org/professional-certificates/ibm-data-science>IBM Data Science Professional Certificate.</a>  In this project we will <strong>Segment and Cluster</strong> Neighborhoods in Toronto, Canada.\n"
   ]
  },
  {
   "cell_type": "code",
   "execution_count": 98,
   "metadata": {},
   "outputs": [],
   "source": [
    "import requests\n",
    "import pandas as pd\n",
    "\n",
    "from bs4 import BeautifulSoup"
   ]
  },
  {
   "cell_type": "code",
   "execution_count": 99,
   "metadata": {},
   "outputs": [],
   "source": [
    "def parse_postal_codes(table):\n",
    "    t_headers = []\n",
    "    \n",
    "    for th in table.find_all(\"th\"):\n",
    "        # Get all header labels\n",
    "        t_headers.append(th.text.replace('\\n', ' ').strip())\n",
    "        \n",
    "    t_data = []\n",
    "        \n",
    "    for tr in table.tbody.find_all(\"tr\"): # find all tr's from table's tbody\n",
    "        t_row = {}\n",
    "        \n",
    "        # find all td's(3) in tr and zip it with t_header\n",
    "        for td, th in zip(tr.find_all(\"td\"), t_headers): \n",
    "            t_row[th] = td.text.replace('\\n', '').strip()\n",
    "        \n",
    "        t_data.append(t_row)\n",
    "            \n",
    "    df = pd.DataFrame(t_data)\n",
    "    \n",
    "    #Clean up df\n",
    "    df.dropna(inplace=True)\n",
    "    \n",
    "    df = df[df.Borough != \"Not assigned\"]\n",
    "    df.rename(columns={\"Postal Code\": \"PostalCode\"}, inplace=True)\n",
    "    \n",
    "    return df      "
   ]
  },
  {
   "cell_type": "code",
   "execution_count": 100,
   "metadata": {},
   "outputs": [],
   "source": [
    "r = requests.get(\"https://en.wikipedia.org/wiki/List_of_postal_codes_of_Canada:_M\")\n",
    "soup = BeautifulSoup(r.content)\n",
    "\n",
    "nb_table = soup.find(\"table\", attrs={\"class\": \"wikitable sortable\"})\n",
    "\n",
    "df = parse_postal_codes(nb_table)"
   ]
  },
  {
   "cell_type": "code",
   "execution_count": 101,
   "metadata": {},
   "outputs": [
    {
     "data": {
      "text/plain": [
       "(103, 3)"
      ]
     },
     "execution_count": 101,
     "metadata": {},
     "output_type": "execute_result"
    }
   ],
   "source": [
    "df.shape"
   ]
  },
  {
   "cell_type": "code",
   "execution_count": null,
   "metadata": {},
   "outputs": [],
   "source": []
  }
 ],
 "metadata": {
  "kernelspec": {
   "display_name": "Python 3",
   "language": "python",
   "name": "python3"
  },
  "language_info": {
   "codemirror_mode": {
    "name": "ipython",
    "version": 3
   },
   "file_extension": ".py",
   "mimetype": "text/x-python",
   "name": "python",
   "nbconvert_exporter": "python",
   "pygments_lexer": "ipython3",
   "version": "3.7.6"
  }
 },
 "nbformat": 4,
 "nbformat_minor": 4
}
